{
  "metadata": {
    "kernelspec": {
      "language": "python",
      "display_name": "Python 3",
      "name": "python3"
    },
    "language_info": {
      "name": "python",
      "version": "3.11.11",
      "mimetype": "text/x-python",
      "codemirror_mode": {
        "name": "ipython",
        "version": 3
      },
      "pygments_lexer": "ipython3",
      "nbconvert_exporter": "python",
      "file_extension": ".py"
    },
    "kaggle": {
      "accelerator": "none",
      "dataSources": [
        {
          "sourceId": 11896022,
          "sourceType": "datasetVersion",
          "datasetId": 7477685
        }
      ],
      "dockerImageVersionId": 31040,
      "isInternetEnabled": true,
      "language": "python",
      "sourceType": "notebook",
      "isGpuEnabled": false
    },
    "colab": {
      "name": "CRITICAL SHIFT SARSCORV2 BETAVIRUS ",
      "provenance": [],
      "include_colab_link": true
    }
  },
  "nbformat_minor": 0,
  "nbformat": 4,
  "cells": [
    {
      "cell_type": "markdown",
      "metadata": {
        "id": "view-in-github",
        "colab_type": "text"
      },
      "source": [
        "<a href=\"https://colab.research.google.com/github/juancuevas-ops/Desregulaci-n-de-la-Producci-n-de-Interleucina-12/blob/main/CRITICAL_SHIFT_SARSCORV2_BETAVIRUS.ipynb\" target=\"_parent\"><img src=\"https://colab.research.google.com/assets/colab-badge.svg\" alt=\"Open In Colab\"/></a>"
      ]
    },
    {
      "source": [
        "# IMPORTANT: RUN THIS CELL IN ORDER TO IMPORT YOUR KAGGLE DATA SOURCES,\n",
        "# THEN FEEL FREE TO DELETE THIS CELL.\n",
        "# NOTE: THIS NOTEBOOK ENVIRONMENT DIFFERS FROM KAGGLE'S PYTHON\n",
        "# ENVIRONMENT SO THERE MAY BE MISSING LIBRARIES USED BY YOUR\n",
        "# NOTEBOOK.\n",
        "import kagglehub\n",
        "pollicio_glicoprotena_de_superficie_s_sarscorv2_betavirus_path = kagglehub.dataset_download('pollicio/glicoprotena-de-superficie-s-sarscorv2-betavirus')\n",
        "\n",
        "print('Data source import complete.')\n"
      ],
      "metadata": {
        "id": "ubvWWCq9Ifaq"
      },
      "cell_type": "code",
      "outputs": [],
      "execution_count": null
    },
    {
      "cell_type": "code",
      "source": [
        "# This Python 3 environment comes with many helpful analytics libraries installed\n",
        "# It is defined by the kaggle/python Docker image: https://github.com/kaggle/docker-python\n",
        "# For example, here's several helpful packages to load\n",
        "\n",
        "import numpy as np # linear algebra\n",
        "import pandas as pd # data processing, CSV file I/O (e.g. pd.read_csv)\n",
        "\n",
        "# Input data files are available in the read-only \"../input/\" directory\n",
        "# For example, running this (by clicking run or pressing Shift+Enter) will list all files under the input directory\n",
        "\n",
        "import os\n",
        "for dirname, _, filenames in os.walk('/kaggle/input'):\n",
        "    for filename in filenames:\n",
        "        print(os.path.join(dirname, filename))\n",
        "\n",
        "# You can write up to 20GB to the current directory (/kaggle/working/) that gets preserved as output when you create a version using \"Save & Run All\"\n",
        "# You can also write temporary files to /kaggle/temp/, but they won't be saved outside of the current session"
      ],
      "metadata": {
        "_uuid": "8f2839f25d086af736a60e9eeb907d3b93b6e0e5",
        "_cell_guid": "b1076dfc-b9ad-4769-8c92-a6c4dae69d19",
        "trusted": true,
        "execution": {
          "iopub.status.busy": "2025-05-21T12:52:20.444478Z",
          "iopub.execute_input": "2025-05-21T12:52:20.444725Z",
          "iopub.status.idle": "2025-05-21T12:52:20.451491Z",
          "shell.execute_reply.started": "2025-05-21T12:52:20.444708Z",
          "shell.execute_reply": "2025-05-21T12:52:20.450715Z"
        },
        "id": "u1BQ5plzIfas"
      },
      "outputs": [],
      "execution_count": null
    },
    {
      "cell_type": "code",
      "source": [
        "!pip install Bio"
      ],
      "metadata": {
        "trusted": true,
        "execution": {
          "iopub.status.busy": "2025-05-21T12:56:13.693779Z",
          "iopub.execute_input": "2025-05-21T12:56:13.694017Z",
          "iopub.status.idle": "2025-05-21T12:56:16.418345Z",
          "shell.execute_reply.started": "2025-05-21T12:56:13.694Z",
          "shell.execute_reply": "2025-05-21T12:56:16.416891Z"
        },
        "id": "d63Xdi1gIfau"
      },
      "outputs": [],
      "execution_count": null
    },
    {
      "cell_type": "code",
      "source": [
        "import os\n",
        "import sys\n",
        "from collections import Counter\n",
        "from Bio import SeqIO\n",
        "from Bio.SeqUtils.ProtParam import ProteinAnalysis\n"
      ],
      "metadata": {
        "trusted": true,
        "execution": {
          "iopub.status.busy": "2025-05-21T12:56:22.408463Z",
          "iopub.execute_input": "2025-05-21T12:56:22.408737Z",
          "iopub.status.idle": "2025-05-21T12:56:22.413444Z",
          "shell.execute_reply.started": "2025-05-21T12:56:22.408715Z",
          "shell.execute_reply": "2025-05-21T12:56:22.412563Z"
        },
        "id": "Z7QOnZfmIfav"
      },
      "outputs": [],
      "execution_count": null
    },
    {
      "cell_type": "code",
      "source": [
        "protein_faa_file_path = \"/kaggle/input/glicoprotena-de-superficie-s-sarscorv2-betavirus/proteina_S.faa\""
      ],
      "metadata": {
        "trusted": true,
        "execution": {
          "iopub.status.busy": "2025-05-21T12:57:10.39935Z",
          "iopub.execute_input": "2025-05-21T12:57:10.399629Z",
          "iopub.status.idle": "2025-05-21T12:57:10.403833Z",
          "shell.execute_reply.started": "2025-05-21T12:57:10.399612Z",
          "shell.execute_reply": "2025-05-21T12:57:10.402997Z"
        },
        "id": "bk8QV0jNIfav"
      },
      "outputs": [],
      "execution_count": null
    },
    {
      "cell_type": "code",
      "source": [
        "# Aminoácidos estándar a considerar\n",
        "STANDARD_AMINO_ACIDS = \"ACDEFGHIKLMNPQRSTVWY\""
      ],
      "metadata": {
        "trusted": true,
        "execution": {
          "iopub.status.busy": "2025-05-21T12:57:13.212412Z",
          "iopub.execute_input": "2025-05-21T12:57:13.212711Z",
          "iopub.status.idle": "2025-05-21T12:57:13.216597Z",
          "shell.execute_reply.started": "2025-05-21T12:57:13.212691Z",
          "shell.execute_reply": "2025-05-21T12:57:13.215704Z"
        },
        "id": "Vkc6W-vXIfaw"
      },
      "outputs": [],
      "execution_count": null
    },
    {
      "cell_type": "code",
      "source": [
        "\n",
        "# ==============================================================================\n",
        "# --- FUNCIÓN PRINCIPAL DE ANÁLISIS DE COMPOSICIÓN ---\n",
        "# ==============================================================================\n",
        "\n",
        "def analyze_protein_composition(faa_file):\n",
        "    \"\"\"\n",
        "    Analiza las secuencias de proteínas en un archivo FAA (FASTA Amino Acid)\n",
        "    y calcula el porcentaje de cada aminoácido estándar.\n",
        "\n",
        "    Args:\n",
        "        faa_file (str): Ruta al archivo FAA.\n",
        "\n",
        "    Returns:\n",
        "        dict: {protein_id: {'length': int, 'aa_percentage': {aa: float}}}\n",
        "              Retorna None si el archivo no se encuentra o hay un error.\n",
        "    \"\"\"\n",
        "    if not os.path.exists(faa_file):\n",
        "        print(f\"Error: Archivo FAA '{faa_file}' no encontrado.\", file=sys.stderr)\n",
        "        return None\n",
        "\n",
        "    results = {}\n",
        "    processed_proteins = 0\n",
        "    print(f\"Info: Procesando archivo de proteínas: {faa_file}\")\n",
        "\n",
        "    try:\n",
        "        for record in SeqIO.parse(faa_file, \"fasta\"):\n",
        "            processed_proteins += 1\n",
        "            protein_id = record.id\n",
        "            # Obtener secuencia como string y limpiar (eliminar '*' de parada si existe)\n",
        "            sequence = str(record.seq).upper().rstrip('*')\n",
        "            seq_len = len(sequence)\n",
        "\n",
        "            if seq_len == 0:\n",
        "                print(f\"Warning: Secuencia '{protein_id}' está vacía. Saltando.\", file=sys.stderr)\n",
        "                results[protein_id] = {'length': 0, 'aa_percentage': {aa: 0.0 for aa in STANDARD_AMINO_ACIDS}}\n",
        "                continue\n",
        "\n",
        "            # Calcular porcentajes usando ProteinAnalysis (maneja errores por AAs no estándar)\n",
        "            # Nota: ProteinAnalysis ignora AAs no estándar (X, B, Z, etc.) en el conteo total.\n",
        "            # Podríamos querer contarlos o excluirlos explícitamente si son comunes.\n",
        "            try:\n",
        "                analysed_seq = ProteinAnalysis(sequence)\n",
        "                aa_percentages = analysed_seq.get_amino_acids_percent() # Devuelve dict {AA: percentage*100}\n",
        "                # Formatear a porcentaje (dividir por 100 implícito en get_amino_acids_percent)\n",
        "                # Asegurarse de que todos los AAs estándar están presentes, incluso si % es 0\n",
        "                formatted_percentages = {aa: aa_percentages.get(aa, 0.0) * 100.0 for aa in STANDARD_AMINO_ACIDS}\n",
        "\n",
        "\n",
        "            except ValueError as e:\n",
        "                 # Manejar posible error si la secuencia contiene caracteres inválidos no manejados por ProteinAnalysis\n",
        "                 print(f\"Warning: Error analizando secuencia '{protein_id}'. Calculando manualmente. Error: {e}\", file=sys.stderr)\n",
        "                 # Cálculo manual como fallback (ignora AAs no estándar)\n",
        "                 aa_counts = Counter(c for c in sequence if c in STANDARD_AMINO_ACIDS)\n",
        "                 valid_len = sum(aa_counts.values())\n",
        "                 if valid_len > 0:\n",
        "                      formatted_percentages = {aa: (aa_counts.get(aa, 0) / valid_len) * 100.0 for aa in STANDARD_AMINO_ACIDS}\n",
        "                 else:\n",
        "                      formatted_percentages = {aa: 0.0 for aa in STANDARD_AMINO_ACIDS}\n",
        "\n",
        "\n",
        "            results[protein_id] = {\n",
        "                'length': seq_len,\n",
        "                'aa_percentage': formatted_percentages\n",
        "            }\n",
        "\n",
        "        print(f\"Info: Análisis de composición completado para {processed_proteins} proteína(s).\")\n",
        "        return results\n",
        "\n",
        "    except Exception as e:\n",
        "        print(f\"Ocurrió un error inesperado durante el procesamiento del archivo FAA: {e}\", file=sys.stderr)\n",
        "        # import traceback; traceback.print_exc() # Para debug\n",
        "        return None\n",
        "\n",
        "# ==============================================================================\n",
        "# --- EJECUCIÓN PRINCIPAL Y SALIDA ---\n",
        "# ==============================================================================\n",
        "\n",
        "if __name__ == \"__main__\":\n",
        "    # Usar parámetros definidos en la sección de CONFIGURACIÓN\n",
        "    protein_input_file = protein_faa_file_path\n",
        "\n",
        "    # Ejecutar el análisis\n",
        "    composition_results = analyze_protein_composition(protein_input_file)\n",
        "\n",
        "    # Imprimir resultados\n",
        "    if composition_results:\n",
        "        print(f\"\\n===== COMPOSICIÓN DE AMINOÁCIDOS PARA: {protein_input_file} =====\")\n",
        "        print(\"\\nNOTA: No hay 'valores de referencia' universales. La composición varía por proteína.\")\n",
        "        print(\"      Interpreta estos porcentajes en el contexto de cada proteína específica.\\n\")\n",
        "\n",
        "        for protein_id, data in composition_results.items():\n",
        "            print(f\"--- Proteína: {protein_id} (Longitud: {data['length']} aa) ---\")\n",
        "            percentages = data['aa_percentage']\n",
        "            # Imprimir porcentajes ordenados alfabéticamente\n",
        "            sorted_aas = sorted(percentages.keys())\n",
        "            output_lines = []\n",
        "            for i in range(0, len(sorted_aas), 5): # Imprimir en grupos de 5 para legibilidad\n",
        "                line = []\n",
        "                for aa in sorted_aas[i:i+5]:\n",
        "                    line.append(f\"{aa}: {percentages[aa]:.2f}%\")\n",
        "                output_lines.append(\"   \".join(line))\n",
        "            print(\"\\n\".join(output_lines))\n",
        "            print(\"-\" * 70)\n",
        "\n",
        "    else:\n",
        "        print(\"\\nNo se generaron resultados. Verifica la ruta del archivo FAA y posibles errores.\")"
      ],
      "metadata": {
        "trusted": true,
        "execution": {
          "iopub.status.busy": "2025-05-21T12:57:19.866977Z",
          "iopub.execute_input": "2025-05-21T12:57:19.867264Z",
          "iopub.status.idle": "2025-05-21T12:57:19.885084Z",
          "shell.execute_reply.started": "2025-05-21T12:57:19.867245Z",
          "shell.execute_reply": "2025-05-21T12:57:19.884044Z"
        },
        "id": "mJEz07DwIfax"
      },
      "outputs": [],
      "execution_count": null
    },
    {
      "cell_type": "markdown",
      "source": [
        "# Análisis de la glicoproteína de superficie S del SARS-CoV-2 y su relación con problemas cardíacos, renales, pulmonares y psiquiátricos\n",
        "La glicoproteína de superficie S (proteína de espiga) del SARS-CoV-2 tiene una estructura compleja que permite la unión al receptor ACE2 en las células humanas. Los aminoácidos alterados en su secuencia (elevados o críticos) pueden influir en su función y, en consecuencia, en la patogénesis viral. A continuación, se relacionan los aminoácidos alterados con los efectos en los tres órganos mencionados y con trastornos psiquiátricos:"
      ],
      "metadata": {
        "id": "GtPsg0dZIfay"
      }
    },
    {
      "cell_type": "markdown",
      "source": [
        "# Aminoácidos alterados y su impacto en el corazón\n",
        "## Leucina (L, 8.48%)\n",
        "Elevado\n",
        "Arritmias y fibrosis miocárdica\n",
        "La leucina es esencial para la estabilidad de proteínas estructurales. Un exceso puede favorecer la acumulación de colágeno anormal en el músculo cardíaco.\n",
        "\n",
        "## Valina (V, 7.62%)\n",
        "Elevado\n",
        "Hipertensión y estrés oxidativo\n",
        "La valina está implicada en la producción de radicales libres, lo que puede dañar el endotelio vascular y aumentar la presión arterial.\n",
        "\n",
        "## Treonina (T, 7.62%)\n",
        "Elevado\n",
        "Disfunción endotelial\n",
        "Modifica la señalización de proteínas vasculares, afectando la regulación de la presión arterial.\n",
        "\n",
        "## Triptófano (W, 0.94%)\n",
        "Crítico\n",
        "Deficiencia de serotonina\n",
        "El triptófano es precursor de serotonina, cuya deficiencia puede causar arritm"
      ],
      "metadata": {
        "id": "jkODe5ljIfa2"
      }
    },
    {
      "cell_type": "markdown",
      "source": [
        "# Aminoácidos alterados y su impacto en los riñones\n",
        "## Glutamato (E, 3.77%)\n",
        "Elevado\n",
        "Inflamación renal y daño tubular\n",
        "El exceso de glutamato activa vías proinflamatorias (ej., NF-κB), dañando los túbulos renales.\n",
        "## Fenilalanina (F, 6.05%)\n",
        "Elevado\n",
        "Acumulación de ácido úrico\n",
        "La fenilalanina es precursora de metabolitos que generan ácido úrico, empeorando la función renal.\n",
        "\n",
        "## Histidina (H, 1.34%)\n",
        "Crítico\n",
        "Deficiencia de histamina\n",
        "La histidina es esencial para la producción de histamina, clave en la regulación de la presión arterial y la respuesta inmune.\n",
        "\n",
        "## Serina (S, 7.78%)\n",
        "Elevado\n",
        "Daño glomerular\n",
        "La serina participa en la síntesis de mucinas y proteínas extracelulares; su e"
      ],
      "metadata": {
        "id": "c8dfu7U2Ifa3"
      }
    },
    {
      "cell_type": "markdown",
      "source": [
        "# Aminoácidos alterados y su impacto en los pulmones\n",
        "## Leucina (L, 8.48%)\n",
        "Elevado\n",
        "Fibrosis pulmonar\n",
        "Favorece la acumulación de colágeno tipo I, típica en la fibrosis.\n",
        "\n",
        "## Serina (S, 7.78%)\n",
        "Elevado\n",
        "Inflamación alveolar\n",
        "Altera la síntesis de surfactantes pulmonares (SP-B/SP-C), reduciendo la tensión superficial y causando distorsión visual.\n",
        "\n",
        "## Treonina (T, 7.62%)\n",
        "Elevado\n",
        "Disfunción epitelial\n",
        "Modifica la estructura de proteínas epiteliales, debilitando la barrera alveolar.\n",
        "\n",
        "## Glicina (G, 6.44%)\n",
        "Elevado\n",
        "Matriz extracelular rígida\n",
        "La glicina es crítica para el colágeno; su exceso genera rigidez tisular."
      ],
      "metadata": {
        "id": "A0rllZr-Ifa4"
      }
    },
    {
      "cell_type": "markdown",
      "source": [
        "# Aminoácidos alterados y su relación con trastornos psiquiátricos\n",
        "## Triptófano (W, 0.94%)\n",
        "Crítico\n",
        "Depresión y ansiedad\n",
        "Deficiencia de triptófano reduce la síntesis de serotonina, un neurotransmisor clave para el estado de ánimo.\n",
        "\n",
        "## Histidina (H, 1.34%)\n",
        "Crítico\n",
        "Síndrome de fatiga post-COVID\n",
        "La histidina es precursora de histamina, reguladora del sueño y la alerta. Su déficit puede causar somnolencia y malestar cognitivo.\n",
        "\n",
        "## Fenilalanina (F, 6.05%)\n",
        "Elevado\n",
        "Ansiedad y trastorno de ansiedad\n",
        "El exceso de fenilalanina inhibe la absorción de triptófano al cerebro, desbalanceando la producción de serotonina.\n",
        "\n",
        "## Alanina (A, 6.21%)\n",
        "Elevado\n",
        "Trastornos del estado de ánimo\n",
        "La alanina elevada altera la homeostasis energética, afectando la produc"
      ],
      "metadata": {
        "id": "q_BOwdnaIfa4"
      }
    },
    {
      "cell_type": "markdown",
      "source": [
        "![](http://)"
      ],
      "metadata": {
        "id": "hWYikSxqIfa5"
      }
    },
    {
      "cell_type": "markdown",
      "source": [
        "## Relación con la estructura de la proteína SARS-CoV-2\n",
        "# Leucina (L, 8.48%) :\n",
        "Región funcional : Presente en dominios de unión al receptor ACE2.\n",
        "Impacto : Mutaciones en leucina (ej., L452R en variantes como Delta) aumentan la afinidad viral por ACE2, facilitando la entrada celular.\n",
        "\n",
        "# Triptófano (W, 0.94%) :\n",
        "Región funcional : Implicado en la conformación del dominio S1/S2 (zona de corte por furina).\n",
        "Impacto : Deficiencia de triptófano en la proteína viral puede reducir su estabilidad, pero en humanos, su déficit afecta la reparación tisular.\n",
        "\n",
        "# Histidina (H, 1.34%) :\n",
        "Región funcional : Participa en la unión a iones metálicos y en la conformación de la proteína.\n",
        "Impacto : Baja histidina en la proteína viral puede alterar su actividad, pero en humanos, reduce la producción de enzimas antioxidantes (ej., SOD2).\n",
        "\n",
        "## Conexión con la patogénesis sistémica\n",
        "Hipoglucemia reactiva :\n",
        "La proteína SARS-CoV-2 induce la liberación de insulina mediante la activación de vías inflamatorias (ej., IL-6), lo que puede causar caídas de glucosa postprandial.\n",
        "Estrés oxidativo :\n",
        "Aminoácidos como fenilalanina (F) y glutamato (E) generan radicales libres, dañando células en corazón, riñón y pulmón.\n",
        "Inflamación sistémica :\n",
        "La proteína SARS-CoV-2 activa macrófagos y neutrófilos, liberando citoquinas (ej., TNF-α, IL-1β), lo que exacerba daños en los tres órganos.\n",
        "## Recomendaciones clínicas\n",
        "Monitoreo de aminoácidos :\n",
        "Verificar niveles de triptófano, histidina y fenilalanina en pacientes con síntomas persistentes.\n",
        "Antioxidantes :\n",
        "N-acetilcisteína (NAC) : Reduce el estrés oxidativo en corazón, pulmón y riñón.\n",
        "Moduladores de colágeno :\n",
        "Pirfenidona/Nintedanib : Inhiben la fibrosis en órganos afectados.\n",
        "Suplementos de triptófano :\n",
        "Mejoran la producción de serotonina y reducen síntomas psiquiátricos.\n",
        "Conclusión\n",
        "Los aminoacidos alterados en la proteına SARS-CoV-2 (L, F, W, H) contribuyen a daño cardıaco, renal, pulmonar y psiquiatrico mediante inflamacion, estres oxidativo y desequilibrios metabolicos.\n",
        "Analisis Bioinformatico Por Alejandro Cuevas VAsquez\n",
        "Algoritmo Patentado por Ley 17336 PROPIEDAD INTELECTUAL\n",
        "MINISTERIO DE EDUCACIÓN PÚBLICA CHILE."
      ],
      "metadata": {
        "id": "H2kq0iT7Ifa5"
      }
    }
  ]
}